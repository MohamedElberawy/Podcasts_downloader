{
 "cells": [
  {
   "cell_type": "markdown",
   "id": "d1a35f72",
   "metadata": {},
   "source": [
    "# importing libraries"
   ]
  },
  {
   "cell_type": "code",
   "execution_count": 2,
   "id": "d7def1e7",
   "metadata": {},
   "outputs": [],
   "source": [
    "import requests \n",
    "import re\n",
    "import os\n",
    "from bs4 import BeautifulSoup\n",
    "import assemblyai as aai"
   ]
  },
  {
   "cell_type": "code",
   "execution_count": 3,
   "id": "851a17eb",
   "metadata": {},
   "outputs": [],
   "source": [
    "# the xml content\n",
    "rss_feed_url = \"https://feed.firstory.me/rss/user/cjzdxzf7vbzvj075872kanoib\"\n",
    "page = requests.get(rss_feed_url)\n",
    "soup = BeautifulSoup(page.content,'xml')"
   ]
  },
  {
   "cell_type": "markdown",
   "id": "3830d193",
   "metadata": {},
   "source": [
    "# creating a key in OS which have the api"
   ]
  },
  {
   "cell_type": "code",
   "execution_count": 22,
   "id": "11c3677b",
   "metadata": {},
   "outputs": [],
   "source": [
    "key = os.environ['ASSEMPLY_KEY']"
   ]
  },
  {
   "cell_type": "code",
   "execution_count": 24,
   "id": "bb0e1fe3",
   "metadata": {},
   "outputs": [
    {
     "data": {
      "text/plain": [
       "'401'"
      ]
     },
     "execution_count": 24,
     "metadata": {},
     "output_type": "execute_result"
    }
   ],
   "source": [
    "key[:3]"
   ]
  },
  {
   "cell_type": "markdown",
   "id": "147db2ea",
   "metadata": {},
   "source": [
    "# Downloading Podcasts"
   ]
  },
  {
   "cell_type": "code",
   "execution_count": 5,
   "id": "6e95955d",
   "metadata": {},
   "outputs": [],
   "source": [
    "# os.mkdir('./downloads')\n",
    "podcast_items = soup.find_all('item')\n",
    "count = 0\n",
    "for podcast in podcast_items:\n",
    "    if count == 5:\n",
    "        break\n",
    "        \n",
    "    title = podcast.find('title').text\n",
    "    description = podcast.find('description').text\n",
    "    mp3_url = podcast.find('enclosure')['url']\n",
    "    \n",
    "    if re.search(r'ai',description,re.I):\n",
    "        mp3_file = requests.get(mp3_url)\n",
    "        # Remove invalid characters from the title using regex\n",
    "        title_cleaned = re.sub(r'[^\\w]', '_', title)\n",
    "        # Construct the filename using the cleaned title\n",
    "        filename = f'./downloads/{title_cleaned}.mp3'\n",
    "        with open(filename, 'wb') as f:\n",
    "            f.write(mp3_file.content)\n",
    "\n",
    "        count += 1\n"
   ]
  },
  {
   "cell_type": "markdown",
   "id": "97cff9b0",
   "metadata": {},
   "source": [
    "# Transcribing Podcasts"
   ]
  },
  {
   "cell_type": "code",
   "execution_count": 21,
   "id": "de375d7d",
   "metadata": {},
   "outputs": [],
   "source": [
    "# Replace with your AssemblyAI API key\n",
    "key = os.environ['ASSEMPLY_KEY']\n",
    "aai.settings.api_key = key\n",
    "\n",
    "# Path to the downloads folder\n",
    "downloads_folder = './downloads'\n",
    "\n",
    "# Initialize the transcriber outside the loop\n",
    "transcriber = aai.Transcriber()\n",
    "\n",
    "# Iterate over all files in the downloads folder\n",
    "for filename in os.listdir(downloads_folder):\n",
    "    file_path = os.path.join(downloads_folder, filename)\n",
    "\n",
    "    # Check if the item is a file (not a directory)\n",
    "    if os.path.isfile(file_path):\n",
    "        try:\n",
    "            # Transcribe the file\n",
    "            transcript = transcriber.transcribe(file_path)\n",
    "\n",
    "            # Create a folder for transcriptions\n",
    "            transcriptions_folder = './transcriptions'\n",
    "            os.makedirs(transcriptions_folder, exist_ok=True)\n",
    "\n",
    "            # Save the transcription to a text file\n",
    "            file_name = os.path.splitext(filename)[0]\n",
    "            with open(f'{transcriptions_folder}/{file_name}_transcription.txt', 'w') as f:\n",
    "                f.write(transcript.text)\n",
    "            \n",
    "        except aai.exceptions.BadRequestError as e:\n",
    "            print(f\"Error transcribing {filename}: {e}\")\n"
   ]
  }
 ],
 "metadata": {
  "kernelspec": {
   "display_name": "Python 3 (ipykernel)",
   "language": "python",
   "name": "python3"
  },
  "language_info": {
   "codemirror_mode": {
    "name": "ipython",
    "version": 3
   },
   "file_extension": ".py",
   "mimetype": "text/x-python",
   "name": "python",
   "nbconvert_exporter": "python",
   "pygments_lexer": "ipython3",
   "version": "3.10.9"
  }
 },
 "nbformat": 4,
 "nbformat_minor": 5
}
